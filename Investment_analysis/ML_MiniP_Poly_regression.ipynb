{
  "nbformat": 4,
  "nbformat_minor": 0,
  "metadata": {
    "colab": {
      "name": "ML_MiniP_Poly_regression.ipynb",
      "provenance": [],
      "collapsed_sections": []
    },
    "kernelspec": {
      "display_name": "Python 3",
      "name": "python3"
    }
  },
  "cells": [
    {
      "cell_type": "markdown",
      "metadata": {
        "id": "fBlCLiBL4U2S"
      },
      "source": [
        ">Impact of Covid on Finance\n",
        ">> Investment Analysis (Real Estate, etc)\n",
        "\n",
        ">> Angela Infanta R. -101852\n",
        "\n",
        ">> Vishadh .S -101855\n",
        "\n"
      ]
    },
    {
      "cell_type": "code",
      "metadata": {
        "id": "qwfGQJqMnHoi"
      },
      "source": [
        "import pandas as pd\n",
        "import numpy as np"
      ],
      "execution_count": 1,
      "outputs": []
    },
    {
      "cell_type": "code",
      "metadata": {
        "id": "NIuLE5eknNl8"
      },
      "source": [
        "dataset = pd.read_csv('/content/sample_data/demo_prj_original.csv')"
      ],
      "execution_count": 2,
      "outputs": []
    },
    {
      "cell_type": "code",
      "metadata": {
        "colab": {
          "base_uri": "https://localhost:8080/",
          "height": 419
        },
        "id": "NGNhpC38n6gr",
        "outputId": "f8382adc-d05c-4403-80b4-976330317030"
      },
      "source": [
        "dataset"
      ],
      "execution_count": 3,
      "outputs": [
        {
          "output_type": "execute_result",
          "data": {
            "text/html": [
              "<div>\n",
              "<style scoped>\n",
              "    .dataframe tbody tr th:only-of-type {\n",
              "        vertical-align: middle;\n",
              "    }\n",
              "\n",
              "    .dataframe tbody tr th {\n",
              "        vertical-align: top;\n",
              "    }\n",
              "\n",
              "    .dataframe thead th {\n",
              "        text-align: right;\n",
              "    }\n",
              "</style>\n",
              "<table border=\"1\" class=\"dataframe\">\n",
              "  <thead>\n",
              "    <tr style=\"text-align: right;\">\n",
              "      <th></th>\n",
              "      <th>LOCATION</th>\n",
              "      <th>SUBJECT</th>\n",
              "      <th>MEASURE</th>\n",
              "      <th>FREQUENCY</th>\n",
              "      <th>TIME</th>\n",
              "      <th>Value</th>\n",
              "    </tr>\n",
              "  </thead>\n",
              "  <tbody>\n",
              "    <tr>\n",
              "      <th>0</th>\n",
              "      <td>AUT</td>\n",
              "      <td>TOT</td>\n",
              "      <td>AGRWTH</td>\n",
              "      <td>M</td>\n",
              "      <td>2017-11</td>\n",
              "      <td>2.263780</td>\n",
              "    </tr>\n",
              "    <tr>\n",
              "      <th>1</th>\n",
              "      <td>AUT</td>\n",
              "      <td>TOT</td>\n",
              "      <td>AGRWTH</td>\n",
              "      <td>M</td>\n",
              "      <td>2017-12</td>\n",
              "      <td>2.154750</td>\n",
              "    </tr>\n",
              "    <tr>\n",
              "      <th>2</th>\n",
              "      <td>AUT</td>\n",
              "      <td>TOT</td>\n",
              "      <td>AGRWTH</td>\n",
              "      <td>M</td>\n",
              "      <td>2018-01</td>\n",
              "      <td>1.768173</td>\n",
              "    </tr>\n",
              "    <tr>\n",
              "      <th>3</th>\n",
              "      <td>AUT</td>\n",
              "      <td>TOT</td>\n",
              "      <td>AGRWTH</td>\n",
              "      <td>M</td>\n",
              "      <td>2018-02</td>\n",
              "      <td>1.762977</td>\n",
              "    </tr>\n",
              "    <tr>\n",
              "      <th>4</th>\n",
              "      <td>AUT</td>\n",
              "      <td>TOT</td>\n",
              "      <td>AGRWTH</td>\n",
              "      <td>M</td>\n",
              "      <td>2018-03</td>\n",
              "      <td>1.851852</td>\n",
              "    </tr>\n",
              "    <tr>\n",
              "      <th>...</th>\n",
              "      <td>...</td>\n",
              "      <td>...</td>\n",
              "      <td>...</td>\n",
              "      <td>...</td>\n",
              "      <td>...</td>\n",
              "      <td>...</td>\n",
              "    </tr>\n",
              "    <tr>\n",
              "      <th>1956</th>\n",
              "      <td>EU27_2020</td>\n",
              "      <td>TOT</td>\n",
              "      <td>AGRWTH</td>\n",
              "      <td>M</td>\n",
              "      <td>2020-08</td>\n",
              "      <td>0.400000</td>\n",
              "    </tr>\n",
              "    <tr>\n",
              "      <th>1957</th>\n",
              "      <td>EU27_2020</td>\n",
              "      <td>TOT</td>\n",
              "      <td>AGRWTH</td>\n",
              "      <td>M</td>\n",
              "      <td>2020-09</td>\n",
              "      <td>0.200000</td>\n",
              "    </tr>\n",
              "    <tr>\n",
              "      <th>1958</th>\n",
              "      <td>EU27_2020</td>\n",
              "      <td>TOT</td>\n",
              "      <td>AGRWTH</td>\n",
              "      <td>M</td>\n",
              "      <td>2020-10</td>\n",
              "      <td>0.200000</td>\n",
              "    </tr>\n",
              "    <tr>\n",
              "      <th>1959</th>\n",
              "      <td>EU27_2020</td>\n",
              "      <td>TOT</td>\n",
              "      <td>AGRWTH</td>\n",
              "      <td>M</td>\n",
              "      <td>2020-11</td>\n",
              "      <td>0.200000</td>\n",
              "    </tr>\n",
              "    <tr>\n",
              "      <th>1960</th>\n",
              "      <td>EU27_2020</td>\n",
              "      <td>TOT</td>\n",
              "      <td>AGRWTH</td>\n",
              "      <td>M</td>\n",
              "      <td>2020-12</td>\n",
              "      <td>0.200000</td>\n",
              "    </tr>\n",
              "  </tbody>\n",
              "</table>\n",
              "<p>1961 rows × 6 columns</p>\n",
              "</div>"
            ],
            "text/plain": [
              "       LOCATION SUBJECT MEASURE FREQUENCY     TIME     Value\n",
              "0           AUT     TOT  AGRWTH         M  2017-11  2.263780\n",
              "1           AUT     TOT  AGRWTH         M  2017-12  2.154750\n",
              "2           AUT     TOT  AGRWTH         M  2018-01  1.768173\n",
              "3           AUT     TOT  AGRWTH         M  2018-02  1.762977\n",
              "4           AUT     TOT  AGRWTH         M  2018-03  1.851852\n",
              "...         ...     ...     ...       ...      ...       ...\n",
              "1956  EU27_2020     TOT  AGRWTH         M  2020-08  0.400000\n",
              "1957  EU27_2020     TOT  AGRWTH         M  2020-09  0.200000\n",
              "1958  EU27_2020     TOT  AGRWTH         M  2020-10  0.200000\n",
              "1959  EU27_2020     TOT  AGRWTH         M  2020-11  0.200000\n",
              "1960  EU27_2020     TOT  AGRWTH         M  2020-12  0.200000\n",
              "\n",
              "[1961 rows x 6 columns]"
            ]
          },
          "metadata": {
            "tags": []
          },
          "execution_count": 3
        }
      ]
    },
    {
      "cell_type": "code",
      "metadata": {
        "colab": {
          "base_uri": "https://localhost:8080/"
        },
        "id": "SifByrm2pMdI",
        "outputId": "9fb3139c-3c77-41c4-ccf9-c7d7673803f2"
      },
      "source": [
        "!pip install sklearn"
      ],
      "execution_count": 4,
      "outputs": [
        {
          "output_type": "stream",
          "text": [
            "Requirement already satisfied: sklearn in /usr/local/lib/python3.7/dist-packages (0.0)\n",
            "Requirement already satisfied: scikit-learn in /usr/local/lib/python3.7/dist-packages (from sklearn) (0.22.2.post1)\n",
            "Requirement already satisfied: joblib>=0.11 in /usr/local/lib/python3.7/dist-packages (from scikit-learn->sklearn) (1.0.1)\n",
            "Requirement already satisfied: numpy>=1.11.0 in /usr/local/lib/python3.7/dist-packages (from scikit-learn->sklearn) (1.19.5)\n",
            "Requirement already satisfied: scipy>=0.17.0 in /usr/local/lib/python3.7/dist-packages (from scikit-learn->sklearn) (1.4.1)\n"
          ],
          "name": "stdout"
        }
      ]
    },
    {
      "cell_type": "code",
      "metadata": {
        "id": "cZulIP9JSUKs"
      },
      "source": [
        "# Remove two columns name is SUBJECT\tMEASURE\tFREQUENCY\t\n",
        "df = dataset.drop(['SUBJECT',\t'MEASURE',\t'FREQUENCY'], axis = 1)"
      ],
      "execution_count": 5,
      "outputs": []
    },
    {
      "cell_type": "code",
      "metadata": {
        "colab": {
          "base_uri": "https://localhost:8080/",
          "height": 204
        },
        "id": "7QtU58pVXzTl",
        "outputId": "610a5525-0b9e-4b18-d968-f13c0bd8ac79"
      },
      "source": [
        "df_new = df[df['LOCATION'] == 'IND']\n",
        "df_new.head()"
      ],
      "execution_count": 6,
      "outputs": [
        {
          "output_type": "execute_result",
          "data": {
            "text/html": [
              "<div>\n",
              "<style scoped>\n",
              "    .dataframe tbody tr th:only-of-type {\n",
              "        vertical-align: middle;\n",
              "    }\n",
              "\n",
              "    .dataframe tbody tr th {\n",
              "        vertical-align: top;\n",
              "    }\n",
              "\n",
              "    .dataframe thead th {\n",
              "        text-align: right;\n",
              "    }\n",
              "</style>\n",
              "<table border=\"1\" class=\"dataframe\">\n",
              "  <thead>\n",
              "    <tr style=\"text-align: right;\">\n",
              "      <th></th>\n",
              "      <th>LOCATION</th>\n",
              "      <th>TIME</th>\n",
              "      <th>Value</th>\n",
              "    </tr>\n",
              "  </thead>\n",
              "  <tbody>\n",
              "    <tr>\n",
              "      <th>1241</th>\n",
              "      <td>IND</td>\n",
              "      <td>2017-11</td>\n",
              "      <td>3.971119</td>\n",
              "    </tr>\n",
              "    <tr>\n",
              "      <th>1242</th>\n",
              "      <td>IND</td>\n",
              "      <td>2017-12</td>\n",
              "      <td>4.000000</td>\n",
              "    </tr>\n",
              "    <tr>\n",
              "      <th>1243</th>\n",
              "      <td>IND</td>\n",
              "      <td>2018-01</td>\n",
              "      <td>5.109489</td>\n",
              "    </tr>\n",
              "    <tr>\n",
              "      <th>1244</th>\n",
              "      <td>IND</td>\n",
              "      <td>2018-02</td>\n",
              "      <td>4.744525</td>\n",
              "    </tr>\n",
              "    <tr>\n",
              "      <th>1245</th>\n",
              "      <td>IND</td>\n",
              "      <td>2018-03</td>\n",
              "      <td>4.363636</td>\n",
              "    </tr>\n",
              "  </tbody>\n",
              "</table>\n",
              "</div>"
            ],
            "text/plain": [
              "     LOCATION     TIME     Value\n",
              "1241      IND  2017-11  3.971119\n",
              "1242      IND  2017-12  4.000000\n",
              "1243      IND  2018-01  5.109489\n",
              "1244      IND  2018-02  4.744525\n",
              "1245      IND  2018-03  4.363636"
            ]
          },
          "metadata": {
            "tags": []
          },
          "execution_count": 6
        }
      ]
    },
    {
      "cell_type": "code",
      "metadata": {
        "colab": {
          "base_uri": "https://localhost:8080/",
          "height": 325
        },
        "id": "CUPdv4I_jf7C",
        "outputId": "0302f98e-98bd-4d61-98a4-59f676179824"
      },
      "source": [
        "import matplotlib.pyplot as plt\n",
        "x = df_new[\"TIME\"]\n",
        "y = df_new[\"Value\"]\n",
        "plt.plot(x, y)\n",
        "plt. xticks(rotation=45)\n",
        "ax = plt.gca()\n",
        "ax.set_xticks(ax.get_xticks()[::3])\n",
        "plt.title(\"India Share Market Prices\")"
      ],
      "execution_count": 7,
      "outputs": [
        {
          "output_type": "execute_result",
          "data": {
            "text/plain": [
              "Text(0.5, 1.0, 'India Share Market Prices')"
            ]
          },
          "metadata": {
            "tags": []
          },
          "execution_count": 7
        },
        {
          "output_type": "display_data",
          "data": {
            "image/png": "[encoded data removed]",
            "text/plain": [
              "<Figure size 432x288 with 1 Axes>"
            ]
          },
          "metadata": {
            "tags": [],
            "needs_background": "light"
          }
        }
      ]
    },
    {
      "cell_type": "code",
      "metadata": {
        "id": "mxRWGAz9XRVt",
        "colab": {
          "base_uri": "https://localhost:8080/",
          "height": 1000
        },
        "outputId": "ee6dfc4c-d4e2-4898-bb03-90654241396e"
      },
      "source": [
        "df_new1 = df[df['LOCATION'] == 'USA']\n",
        "df_new2 = df[df['LOCATION'] == 'ITA']\n",
        "df_new3 = df[df['LOCATION'] == 'EU27_2020']\n",
        "df_new3"
      ],
      "execution_count": 8,
      "outputs": [
        {
          "output_type": "execute_result",
          "data": {
            "text/html": [
              "<div>\n",
              "<style scoped>\n",
              "    .dataframe tbody tr th:only-of-type {\n",
              "        vertical-align: middle;\n",
              "    }\n",
              "\n",
              "    .dataframe tbody tr th {\n",
              "        vertical-align: top;\n",
              "    }\n",
              "\n",
              "    .dataframe thead th {\n",
              "        text-align: right;\n",
              "    }\n",
              "</style>\n",
              "<table border=\"1\" class=\"dataframe\">\n",
              "  <thead>\n",
              "    <tr style=\"text-align: right;\">\n",
              "      <th></th>\n",
              "      <th>LOCATION</th>\n",
              "      <th>TIME</th>\n",
              "      <th>Value</th>\n",
              "    </tr>\n",
              "  </thead>\n",
              "  <tbody>\n",
              "    <tr>\n",
              "      <th>1923</th>\n",
              "      <td>EU27_2020</td>\n",
              "      <td>2017-11</td>\n",
              "      <td>1.6</td>\n",
              "    </tr>\n",
              "    <tr>\n",
              "      <th>1924</th>\n",
              "      <td>EU27_2020</td>\n",
              "      <td>2017-12</td>\n",
              "      <td>1.4</td>\n",
              "    </tr>\n",
              "    <tr>\n",
              "      <th>1925</th>\n",
              "      <td>EU27_2020</td>\n",
              "      <td>2018-01</td>\n",
              "      <td>1.4</td>\n",
              "    </tr>\n",
              "    <tr>\n",
              "      <th>1926</th>\n",
              "      <td>EU27_2020</td>\n",
              "      <td>2018-02</td>\n",
              "      <td>1.2</td>\n",
              "    </tr>\n",
              "    <tr>\n",
              "      <th>1927</th>\n",
              "      <td>EU27_2020</td>\n",
              "      <td>2018-03</td>\n",
              "      <td>1.4</td>\n",
              "    </tr>\n",
              "    <tr>\n",
              "      <th>1928</th>\n",
              "      <td>EU27_2020</td>\n",
              "      <td>2018-04</td>\n",
              "      <td>1.3</td>\n",
              "    </tr>\n",
              "    <tr>\n",
              "      <th>1929</th>\n",
              "      <td>EU27_2020</td>\n",
              "      <td>2018-05</td>\n",
              "      <td>2.0</td>\n",
              "    </tr>\n",
              "    <tr>\n",
              "      <th>1930</th>\n",
              "      <td>EU27_2020</td>\n",
              "      <td>2018-06</td>\n",
              "      <td>2.0</td>\n",
              "    </tr>\n",
              "    <tr>\n",
              "      <th>1931</th>\n",
              "      <td>EU27_2020</td>\n",
              "      <td>2018-07</td>\n",
              "      <td>2.2</td>\n",
              "    </tr>\n",
              "    <tr>\n",
              "      <th>1932</th>\n",
              "      <td>EU27_2020</td>\n",
              "      <td>2018-08</td>\n",
              "      <td>2.1</td>\n",
              "    </tr>\n",
              "    <tr>\n",
              "      <th>1933</th>\n",
              "      <td>EU27_2020</td>\n",
              "      <td>2018-09</td>\n",
              "      <td>2.1</td>\n",
              "    </tr>\n",
              "    <tr>\n",
              "      <th>1934</th>\n",
              "      <td>EU27_2020</td>\n",
              "      <td>2018-10</td>\n",
              "      <td>2.3</td>\n",
              "    </tr>\n",
              "    <tr>\n",
              "      <th>1935</th>\n",
              "      <td>EU27_2020</td>\n",
              "      <td>2018-11</td>\n",
              "      <td>1.9</td>\n",
              "    </tr>\n",
              "    <tr>\n",
              "      <th>1936</th>\n",
              "      <td>EU27_2020</td>\n",
              "      <td>2018-12</td>\n",
              "      <td>1.6</td>\n",
              "    </tr>\n",
              "    <tr>\n",
              "      <th>1937</th>\n",
              "      <td>EU27_2020</td>\n",
              "      <td>2019-01</td>\n",
              "      <td>1.4</td>\n",
              "    </tr>\n",
              "    <tr>\n",
              "      <th>1938</th>\n",
              "      <td>EU27_2020</td>\n",
              "      <td>2019-02</td>\n",
              "      <td>1.6</td>\n",
              "    </tr>\n",
              "    <tr>\n",
              "      <th>1939</th>\n",
              "      <td>EU27_2020</td>\n",
              "      <td>2019-03</td>\n",
              "      <td>1.6</td>\n",
              "    </tr>\n",
              "    <tr>\n",
              "      <th>1940</th>\n",
              "      <td>EU27_2020</td>\n",
              "      <td>2019-04</td>\n",
              "      <td>1.9</td>\n",
              "    </tr>\n",
              "    <tr>\n",
              "      <th>1941</th>\n",
              "      <td>EU27_2020</td>\n",
              "      <td>2019-05</td>\n",
              "      <td>1.5</td>\n",
              "    </tr>\n",
              "    <tr>\n",
              "      <th>1942</th>\n",
              "      <td>EU27_2020</td>\n",
              "      <td>2019-06</td>\n",
              "      <td>1.5</td>\n",
              "    </tr>\n",
              "    <tr>\n",
              "      <th>1943</th>\n",
              "      <td>EU27_2020</td>\n",
              "      <td>2019-07</td>\n",
              "      <td>1.3</td>\n",
              "    </tr>\n",
              "    <tr>\n",
              "      <th>1944</th>\n",
              "      <td>EU27_2020</td>\n",
              "      <td>2019-08</td>\n",
              "      <td>1.3</td>\n",
              "    </tr>\n",
              "    <tr>\n",
              "      <th>1945</th>\n",
              "      <td>EU27_2020</td>\n",
              "      <td>2019-09</td>\n",
              "      <td>1.1</td>\n",
              "    </tr>\n",
              "    <tr>\n",
              "      <th>1946</th>\n",
              "      <td>EU27_2020</td>\n",
              "      <td>2019-10</td>\n",
              "      <td>1.0</td>\n",
              "    </tr>\n",
              "    <tr>\n",
              "      <th>1947</th>\n",
              "      <td>EU27_2020</td>\n",
              "      <td>2019-11</td>\n",
              "      <td>1.3</td>\n",
              "    </tr>\n",
              "    <tr>\n",
              "      <th>1948</th>\n",
              "      <td>EU27_2020</td>\n",
              "      <td>2019-12</td>\n",
              "      <td>1.6</td>\n",
              "    </tr>\n",
              "    <tr>\n",
              "      <th>1949</th>\n",
              "      <td>EU27_2020</td>\n",
              "      <td>2020-01</td>\n",
              "      <td>1.7</td>\n",
              "    </tr>\n",
              "    <tr>\n",
              "      <th>1950</th>\n",
              "      <td>EU27_2020</td>\n",
              "      <td>2020-02</td>\n",
              "      <td>1.6</td>\n",
              "    </tr>\n",
              "    <tr>\n",
              "      <th>1951</th>\n",
              "      <td>EU27_2020</td>\n",
              "      <td>2020-03</td>\n",
              "      <td>1.1</td>\n",
              "    </tr>\n",
              "    <tr>\n",
              "      <th>1952</th>\n",
              "      <td>EU27_2020</td>\n",
              "      <td>2020-04</td>\n",
              "      <td>0.6</td>\n",
              "    </tr>\n",
              "    <tr>\n",
              "      <th>1953</th>\n",
              "      <td>EU27_2020</td>\n",
              "      <td>2020-05</td>\n",
              "      <td>0.5</td>\n",
              "    </tr>\n",
              "    <tr>\n",
              "      <th>1954</th>\n",
              "      <td>EU27_2020</td>\n",
              "      <td>2020-06</td>\n",
              "      <td>0.7</td>\n",
              "    </tr>\n",
              "    <tr>\n",
              "      <th>1955</th>\n",
              "      <td>EU27_2020</td>\n",
              "      <td>2020-07</td>\n",
              "      <td>0.8</td>\n",
              "    </tr>\n",
              "    <tr>\n",
              "      <th>1956</th>\n",
              "      <td>EU27_2020</td>\n",
              "      <td>2020-08</td>\n",
              "      <td>0.4</td>\n",
              "    </tr>\n",
              "    <tr>\n",
              "      <th>1957</th>\n",
              "      <td>EU27_2020</td>\n",
              "      <td>2020-09</td>\n",
              "      <td>0.2</td>\n",
              "    </tr>\n",
              "    <tr>\n",
              "      <th>1958</th>\n",
              "      <td>EU27_2020</td>\n",
              "      <td>2020-10</td>\n",
              "      <td>0.2</td>\n",
              "    </tr>\n",
              "    <tr>\n",
              "      <th>1959</th>\n",
              "      <td>EU27_2020</td>\n",
              "      <td>2020-11</td>\n",
              "      <td>0.2</td>\n",
              "    </tr>\n",
              "    <tr>\n",
              "      <th>1960</th>\n",
              "      <td>EU27_2020</td>\n",
              "      <td>2020-12</td>\n",
              "      <td>0.2</td>\n",
              "    </tr>\n",
              "  </tbody>\n",
              "</table>\n",
              "</div>"
            ],
            "text/plain": [
              "       LOCATION     TIME  Value\n",
              "1923  EU27_2020  2017-11    1.6\n",
              "1924  EU27_2020  2017-12    1.4\n",
              "1925  EU27_2020  2018-01    1.4\n",
              "1926  EU27_2020  2018-02    1.2\n",
              "1927  EU27_2020  2018-03    1.4\n",
              "1928  EU27_2020  2018-04    1.3\n",
              "1929  EU27_2020  2018-05    2.0\n",
              "1930  EU27_2020  2018-06    2.0\n",
              "1931  EU27_2020  2018-07    2.2\n",
              "1932  EU27_2020  2018-08    2.1\n",
              "1933  EU27_2020  2018-09    2.1\n",
              "1934  EU27_2020  2018-10    2.3\n",
              "1935  EU27_2020  2018-11    1.9\n",
              "1936  EU27_2020  2018-12    1.6\n",
              "1937  EU27_2020  2019-01    1.4\n",
              "1938  EU27_2020  2019-02    1.6\n",
              "1939  EU27_2020  2019-03    1.6\n",
              "1940  EU27_2020  2019-04    1.9\n",
              "1941  EU27_2020  2019-05    1.5\n",
              "1942  EU27_2020  2019-06    1.5\n",
              "1943  EU27_2020  2019-07    1.3\n",
              "1944  EU27_2020  2019-08    1.3\n",
              "1945  EU27_2020  2019-09    1.1\n",
              "1946  EU27_2020  2019-10    1.0\n",
              "1947  EU27_2020  2019-11    1.3\n",
              "1948  EU27_2020  2019-12    1.6\n",
              "1949  EU27_2020  2020-01    1.7\n",
              "1950  EU27_2020  2020-02    1.6\n",
              "1951  EU27_2020  2020-03    1.1\n",
              "1952  EU27_2020  2020-04    0.6\n",
              "1953  EU27_2020  2020-05    0.5\n",
              "1954  EU27_2020  2020-06    0.7\n",
              "1955  EU27_2020  2020-07    0.8\n",
              "1956  EU27_2020  2020-08    0.4\n",
              "1957  EU27_2020  2020-09    0.2\n",
              "1958  EU27_2020  2020-10    0.2\n",
              "1959  EU27_2020  2020-11    0.2\n",
              "1960  EU27_2020  2020-12    0.2"
            ]
          },
          "metadata": {
            "tags": []
          },
          "execution_count": 8
        }
      ]
    },
    {
      "cell_type": "code",
      "metadata": {
        "colab": {
          "base_uri": "https://localhost:8080/",
          "height": 434
        },
        "id": "QNsH8TxGLDIY",
        "outputId": "26393193-ad3a-40e3-92dc-f700fe75ebdd"
      },
      "source": [
        "x1 = df_new1[\"TIME\"]\n",
        "y1 = df_new1[\"Value\"]\n",
        "x2 = df_new2[\"TIME\"]\n",
        "y2 = df_new2[\"Value\"]\n",
        "x3 = df_new3[\"TIME\"]\n",
        "y3 = df_new3[\"Value\"]\n",
        "plt.figure(figsize=(10,6))\n",
        "plt.plot(x1, y1)\n",
        "plt.plot(x2, y2)\n",
        "plt.plot(x3, y3)\n",
        "plt. xticks(rotation=45)\n",
        "ax = plt.gca()\n",
        "ax.set_xticks(ax.get_xticks()[::3])\n",
        "plt.legend([\"USA\", \"ITALY\",\"EU27_2020\"]) \n",
        "plt.title(\"Curve\")\n",
        "\n"
      ],
      "execution_count": 9,
      "outputs": [
        {
          "output_type": "execute_result",
          "data": {
            "text/plain": [
              "Text(0.5, 1.0, 'Curve')"
            ]
          },
          "metadata": {
            "tags": []
          },
          "execution_count": 9
        },
        {
          "output_type": "display_data",
          "data": {
            "image/png": "[encoded data removed]",
            "text/plain": [
              "<Figure size 720x432 with 1 Axes>"
            ]
          },
          "metadata": {
            "tags": [],
            "needs_background": "light"
          }
        }
      ]
    },
    {
      "cell_type": "code",
      "metadata": {
        "id": "R_aPp2ATe1lY"
      },
      "source": [
        "import datetime as dt\n",
        "df_new['Date'] = pd.to_datetime(df_new['TIME'])\n",
        "df_new['Date']=df_new['Date'].map(dt.datetime.toordinal)\n",
        "df_new1['Date'] = pd.to_datetime(df_new1['TIME'])\n",
        "df_new1['Date']=df_new1['Date'].map(dt.datetime.toordinal)\n",
        "df_new2['Date'] = pd.to_datetime(df_new2['TIME'])\n",
        "df_new2['Date']=df_new2['Date'].map(dt.datetime.toordinal)\n",
        "df_new3['Date'] = pd.to_datetime(df_new3['TIME'])\n",
        "df_new3['Date']=df_new3['Date'].map(dt.datetime.toordinal)"
      ],
      "execution_count": null,
      "outputs": []
    },
    {
      "cell_type": "code",
      "metadata": {
        "colab": {
          "base_uri": "https://localhost:8080/",
          "height": 1000
        },
        "id": "n9qtd127b0ej",
        "outputId": "f68319c9-cc5f-46e6-f634-6fdd261eac56"
      },
      "source": [
        "df_new3"
      ],
      "execution_count": 11,
      "outputs": [
        {
          "output_type": "execute_result",
          "data": {
            "text/html": [
              "<div>\n",
              "<style scoped>\n",
              "    .dataframe tbody tr th:only-of-type {\n",
              "        vertical-align: middle;\n",
              "    }\n",
              "\n",
              "    .dataframe tbody tr th {\n",
              "        vertical-align: top;\n",
              "    }\n",
              "\n",
              "    .dataframe thead th {\n",
              "        text-align: right;\n",
              "    }\n",
              "</style>\n",
              "<table border=\"1\" class=\"dataframe\">\n",
              "  <thead>\n",
              "    <tr style=\"text-align: right;\">\n",
              "      <th></th>\n",
              "      <th>LOCATION</th>\n",
              "      <th>TIME</th>\n",
              "      <th>Value</th>\n",
              "      <th>Date</th>\n",
              "    </tr>\n",
              "  </thead>\n",
              "  <tbody>\n",
              "    <tr>\n",
              "      <th>1923</th>\n",
              "      <td>EU27_2020</td>\n",
              "      <td>2017-11</td>\n",
              "      <td>1.6</td>\n",
              "      <td>736634</td>\n",
              "    </tr>\n",
              "    <tr>\n",
              "      <th>1924</th>\n",
              "      <td>EU27_2020</td>\n",
              "      <td>2017-12</td>\n",
              "      <td>1.4</td>\n",
              "      <td>736664</td>\n",
              "    </tr>\n",
              "    <tr>\n",
              "      <th>1925</th>\n",
              "      <td>EU27_2020</td>\n",
              "      <td>2018-01</td>\n",
              "      <td>1.4</td>\n",
              "      <td>736695</td>\n",
              "    </tr>\n",
              "    <tr>\n",
              "      <th>1926</th>\n",
              "      <td>EU27_2020</td>\n",
              "      <td>2018-02</td>\n",
              "      <td>1.2</td>\n",
              "      <td>736726</td>\n",
              "    </tr>\n",
              "    <tr>\n",
              "      <th>1927</th>\n",
              "      <td>EU27_2020</td>\n",
              "      <td>2018-03</td>\n",
              "      <td>1.4</td>\n",
              "      <td>736754</td>\n",
              "    </tr>\n",
              "    <tr>\n",
              "      <th>1928</th>\n",
              "      <td>EU27_2020</td>\n",
              "      <td>2018-04</td>\n",
              "      <td>1.3</td>\n",
              "      <td>736785</td>\n",
              "    </tr>\n",
              "    <tr>\n",
              "      <th>1929</th>\n",
              "      <td>EU27_2020</td>\n",
              "      <td>2018-05</td>\n",
              "      <td>2.0</td>\n",
              "      <td>736815</td>\n",
              "    </tr>\n",
              "    <tr>\n",
              "      <th>1930</th>\n",
              "      <td>EU27_2020</td>\n",
              "      <td>2018-06</td>\n",
              "      <td>2.0</td>\n",
              "      <td>736846</td>\n",
              "    </tr>\n",
              "    <tr>\n",
              "      <th>1931</th>\n",
              "      <td>EU27_2020</td>\n",
              "      <td>2018-07</td>\n",
              "      <td>2.2</td>\n",
              "      <td>736876</td>\n",
              "    </tr>\n",
              "    <tr>\n",
              "      <th>1932</th>\n",
              "      <td>EU27_2020</td>\n",
              "      <td>2018-08</td>\n",
              "      <td>2.1</td>\n",
              "      <td>736907</td>\n",
              "    </tr>\n",
              "    <tr>\n",
              "      <th>1933</th>\n",
              "      <td>EU27_2020</td>\n",
              "      <td>2018-09</td>\n",
              "      <td>2.1</td>\n",
              "      <td>736938</td>\n",
              "    </tr>\n",
              "    <tr>\n",
              "      <th>1934</th>\n",
              "      <td>EU27_2020</td>\n",
              "      <td>2018-10</td>\n",
              "      <td>2.3</td>\n",
              "      <td>736968</td>\n",
              "    </tr>\n",
              "    <tr>\n",
              "      <th>1935</th>\n",
              "      <td>EU27_2020</td>\n",
              "      <td>2018-11</td>\n",
              "      <td>1.9</td>\n",
              "      <td>736999</td>\n",
              "    </tr>\n",
              "    <tr>\n",
              "      <th>1936</th>\n",
              "      <td>EU27_2020</td>\n",
              "      <td>2018-12</td>\n",
              "      <td>1.6</td>\n",
              "      <td>737029</td>\n",
              "    </tr>\n",
              "    <tr>\n",
              "      <th>1937</th>\n",
              "      <td>EU27_2020</td>\n",
              "      <td>2019-01</td>\n",
              "      <td>1.4</td>\n",
              "      <td>737060</td>\n",
              "    </tr>\n",
              "    <tr>\n",
              "      <th>1938</th>\n",
              "      <td>EU27_2020</td>\n",
              "      <td>2019-02</td>\n",
              "      <td>1.6</td>\n",
              "      <td>737091</td>\n",
              "    </tr>\n",
              "    <tr>\n",
              "      <th>1939</th>\n",
              "      <td>EU27_2020</td>\n",
              "      <td>2019-03</td>\n",
              "      <td>1.6</td>\n",
              "      <td>737119</td>\n",
              "    </tr>\n",
              "    <tr>\n",
              "      <th>1940</th>\n",
              "      <td>EU27_2020</td>\n",
              "      <td>2019-04</td>\n",
              "      <td>1.9</td>\n",
              "      <td>737150</td>\n",
              "    </tr>\n",
              "    <tr>\n",
              "      <th>1941</th>\n",
              "      <td>EU27_2020</td>\n",
              "      <td>2019-05</td>\n",
              "      <td>1.5</td>\n",
              "      <td>737180</td>\n",
              "    </tr>\n",
              "    <tr>\n",
              "      <th>1942</th>\n",
              "      <td>EU27_2020</td>\n",
              "      <td>2019-06</td>\n",
              "      <td>1.5</td>\n",
              "      <td>737211</td>\n",
              "    </tr>\n",
              "    <tr>\n",
              "      <th>1943</th>\n",
              "      <td>EU27_2020</td>\n",
              "      <td>2019-07</td>\n",
              "      <td>1.3</td>\n",
              "      <td>737241</td>\n",
              "    </tr>\n",
              "    <tr>\n",
              "      <th>1944</th>\n",
              "      <td>EU27_2020</td>\n",
              "      <td>2019-08</td>\n",
              "      <td>1.3</td>\n",
              "      <td>737272</td>\n",
              "    </tr>\n",
              "    <tr>\n",
              "      <th>1945</th>\n",
              "      <td>EU27_2020</td>\n",
              "      <td>2019-09</td>\n",
              "      <td>1.1</td>\n",
              "      <td>737303</td>\n",
              "    </tr>\n",
              "    <tr>\n",
              "      <th>1946</th>\n",
              "      <td>EU27_2020</td>\n",
              "      <td>2019-10</td>\n",
              "      <td>1.0</td>\n",
              "      <td>737333</td>\n",
              "    </tr>\n",
              "    <tr>\n",
              "      <th>1947</th>\n",
              "      <td>EU27_2020</td>\n",
              "      <td>2019-11</td>\n",
              "      <td>1.3</td>\n",
              "      <td>737364</td>\n",
              "    </tr>\n",
              "    <tr>\n",
              "      <th>1948</th>\n",
              "      <td>EU27_2020</td>\n",
              "      <td>2019-12</td>\n",
              "      <td>1.6</td>\n",
              "      <td>737394</td>\n",
              "    </tr>\n",
              "    <tr>\n",
              "      <th>1949</th>\n",
              "      <td>EU27_2020</td>\n",
              "      <td>2020-01</td>\n",
              "      <td>1.7</td>\n",
              "      <td>737425</td>\n",
              "    </tr>\n",
              "    <tr>\n",
              "      <th>1950</th>\n",
              "      <td>EU27_2020</td>\n",
              "      <td>2020-02</td>\n",
              "      <td>1.6</td>\n",
              "      <td>737456</td>\n",
              "    </tr>\n",
              "    <tr>\n",
              "      <th>1951</th>\n",
              "      <td>EU27_2020</td>\n",
              "      <td>2020-03</td>\n",
              "      <td>1.1</td>\n",
              "      <td>737485</td>\n",
              "    </tr>\n",
              "    <tr>\n",
              "      <th>1952</th>\n",
              "      <td>EU27_2020</td>\n",
              "      <td>2020-04</td>\n",
              "      <td>0.6</td>\n",
              "      <td>737516</td>\n",
              "    </tr>\n",
              "    <tr>\n",
              "      <th>1953</th>\n",
              "      <td>EU27_2020</td>\n",
              "      <td>2020-05</td>\n",
              "      <td>0.5</td>\n",
              "      <td>737546</td>\n",
              "    </tr>\n",
              "    <tr>\n",
              "      <th>1954</th>\n",
              "      <td>EU27_2020</td>\n",
              "      <td>2020-06</td>\n",
              "      <td>0.7</td>\n",
              "      <td>737577</td>\n",
              "    </tr>\n",
              "    <tr>\n",
              "      <th>1955</th>\n",
              "      <td>EU27_2020</td>\n",
              "      <td>2020-07</td>\n",
              "      <td>0.8</td>\n",
              "      <td>737607</td>\n",
              "    </tr>\n",
              "    <tr>\n",
              "      <th>1956</th>\n",
              "      <td>EU27_2020</td>\n",
              "      <td>2020-08</td>\n",
              "      <td>0.4</td>\n",
              "      <td>737638</td>\n",
              "    </tr>\n",
              "    <tr>\n",
              "      <th>1957</th>\n",
              "      <td>EU27_2020</td>\n",
              "      <td>2020-09</td>\n",
              "      <td>0.2</td>\n",
              "      <td>737669</td>\n",
              "    </tr>\n",
              "    <tr>\n",
              "      <th>1958</th>\n",
              "      <td>EU27_2020</td>\n",
              "      <td>2020-10</td>\n",
              "      <td>0.2</td>\n",
              "      <td>737699</td>\n",
              "    </tr>\n",
              "    <tr>\n",
              "      <th>1959</th>\n",
              "      <td>EU27_2020</td>\n",
              "      <td>2020-11</td>\n",
              "      <td>0.2</td>\n",
              "      <td>737730</td>\n",
              "    </tr>\n",
              "    <tr>\n",
              "      <th>1960</th>\n",
              "      <td>EU27_2020</td>\n",
              "      <td>2020-12</td>\n",
              "      <td>0.2</td>\n",
              "      <td>737760</td>\n",
              "    </tr>\n",
              "  </tbody>\n",
              "</table>\n",
              "</div>"
            ],
            "text/plain": [
              "       LOCATION     TIME  Value    Date\n",
              "1923  EU27_2020  2017-11    1.6  736634\n",
              "1924  EU27_2020  2017-12    1.4  736664\n",
              "1925  EU27_2020  2018-01    1.4  736695\n",
              "1926  EU27_2020  2018-02    1.2  736726\n",
              "1927  EU27_2020  2018-03    1.4  736754\n",
              "1928  EU27_2020  2018-04    1.3  736785\n",
              "1929  EU27_2020  2018-05    2.0  736815\n",
              "1930  EU27_2020  2018-06    2.0  736846\n",
              "1931  EU27_2020  2018-07    2.2  736876\n",
              "1932  EU27_2020  2018-08    2.1  736907\n",
              "1933  EU27_2020  2018-09    2.1  736938\n",
              "1934  EU27_2020  2018-10    2.3  736968\n",
              "1935  EU27_2020  2018-11    1.9  736999\n",
              "1936  EU27_2020  2018-12    1.6  737029\n",
              "1937  EU27_2020  2019-01    1.4  737060\n",
              "1938  EU27_2020  2019-02    1.6  737091\n",
              "1939  EU27_2020  2019-03    1.6  737119\n",
              "1940  EU27_2020  2019-04    1.9  737150\n",
              "1941  EU27_2020  2019-05    1.5  737180\n",
              "1942  EU27_2020  2019-06    1.5  737211\n",
              "1943  EU27_2020  2019-07    1.3  737241\n",
              "1944  EU27_2020  2019-08    1.3  737272\n",
              "1945  EU27_2020  2019-09    1.1  737303\n",
              "1946  EU27_2020  2019-10    1.0  737333\n",
              "1947  EU27_2020  2019-11    1.3  737364\n",
              "1948  EU27_2020  2019-12    1.6  737394\n",
              "1949  EU27_2020  2020-01    1.7  737425\n",
              "1950  EU27_2020  2020-02    1.6  737456\n",
              "1951  EU27_2020  2020-03    1.1  737485\n",
              "1952  EU27_2020  2020-04    0.6  737516\n",
              "1953  EU27_2020  2020-05    0.5  737546\n",
              "1954  EU27_2020  2020-06    0.7  737577\n",
              "1955  EU27_2020  2020-07    0.8  737607\n",
              "1956  EU27_2020  2020-08    0.4  737638\n",
              "1957  EU27_2020  2020-09    0.2  737669\n",
              "1958  EU27_2020  2020-10    0.2  737699\n",
              "1959  EU27_2020  2020-11    0.2  737730\n",
              "1960  EU27_2020  2020-12    0.2  737760"
            ]
          },
          "metadata": {
            "tags": []
          },
          "execution_count": 11
        }
      ]
    },
    {
      "cell_type": "code",
      "metadata": {
        "colab": {
          "base_uri": "https://localhost:8080/"
        },
        "id": "RzNkHycZe-Wv",
        "outputId": "a1abc403-00a4-42dd-df0d-3ebc2f62a4e2"
      },
      "source": [
        "numOfRows = df_new.shape[0]\n",
        "print('Number of Rows in dataframe India : ' , numOfRows)\n",
        "numOfRows1 = df_new1.shape[0]\n",
        "print('Number of Rows in dataframe USA : ' , numOfRows1)\n",
        "numOfRows2 = df_new2.shape[0]\n",
        "print('Number of Rows in dataframe Italy : ' , numOfRows2)\n",
        "numOfRows3 = df_new3.shape[0]\n",
        "print('Number of Rows in dataframe EU27_2020 : ' , numOfRows3)"
      ],
      "execution_count": 12,
      "outputs": [
        {
          "output_type": "stream",
          "text": [
            "Number of Rows in dataframe India :  38\n",
            "Number of Rows in dataframe USA :  39\n",
            "Number of Rows in dataframe Italy :  39\n",
            "Number of Rows in dataframe EU27_2020 :  38\n"
          ],
          "name": "stdout"
        }
      ]
    },
    {
      "cell_type": "markdown",
      "metadata": {
        "id": "7zV3Tm25ealy"
      },
      "source": [
        "Way 1:"
      ]
    },
    {
      "cell_type": "code",
      "metadata": {
        "colab": {
          "base_uri": "https://localhost:8080/",
          "height": 265
        },
        "id": "naeMSOs_fkzn",
        "outputId": "deacb048-fb2e-4d70-b15e-f523ec68ed82"
      },
      "source": [
        "import matplotlib.pyplot as plt\n",
        "from sklearn.linear_model import LinearRegression\n",
        "\n",
        "#np.random.seed(0)\n",
        "#x = 2 - 3 * np.random.normal(0, 1, 20)\n",
        "#y = x - 2 * (x ** 2) + 0.5 * (x ** 3) + np.random.normal(-3, 3, 20)\n",
        "\n",
        "x = df_new3['Date'].values\n",
        "y = df_new3['Value'].values\n",
        "\n",
        "# transforming the data to include another axis\n",
        "x = x[:, np.newaxis]\n",
        "y = y[:, np.newaxis]\n",
        "\n",
        "model = LinearRegression()\n",
        "model.fit(x, y)\n",
        "y_pred = model.predict(x)\n",
        "\n",
        "plt.scatter(x, y, s=10)\n",
        "plt.plot(x, y_pred, color='r')\n",
        "plt.show()"
      ],
      "execution_count": 13,
      "outputs": [
        {
          "output_type": "display_data",
          "data": {
            "image/png": "[encoded data removed]",
            "text/plain": [
              "<Figure size 432x288 with 1 Axes>"
            ]
          },
          "metadata": {
            "tags": [],
            "needs_background": "light"
          }
        }
      ]
    },
    {
      "cell_type": "code",
      "metadata": {
        "id": "B-y8ps8Mg5lF",
        "colab": {
          "base_uri": "https://localhost:8080/",
          "height": 333
        },
        "outputId": "ce3db6b5-ee4f-45a1-bb07-1bfffebbe0d1"
      },
      "source": [
        "import operator\n",
        "\n",
        "import numpy as np\n",
        "import matplotlib.pyplot as plt\n",
        "\n",
        "from sklearn.linear_model import LinearRegression\n",
        "from sklearn.metrics import mean_squared_error, r2_score\n",
        "from sklearn.preprocessing import PolynomialFeatures\n",
        "\n",
        "'''np.random.seed(0)\n",
        "x = 2 - 3 * np.random.normal(0, 1, 20)\n",
        "y = x - 2 * (x ** 2) + 0.5 * (x ** 3) + np.random.normal(-3, 3, 20)'''\n",
        "\n",
        "X = df_new3['Date'].values\n",
        "Y = df_new3['Value'].values\n",
        "#print(X,Y)\n",
        "# transforming the data to include another axis\n",
        "x = X[:, np.newaxis]\n",
        "y = Y[:, np.newaxis]\n",
        "#print(x,y)\n",
        "polynomial_features= PolynomialFeatures(degree=3)\n",
        "print(polynomial_features)\n",
        "x_poly = polynomial_features.fit_transform(x)\n",
        "\n",
        "model = LinearRegression()\n",
        "model.fit(x_poly, y)\n",
        "y_poly_pred = model.predict(x_poly)\n",
        "\n",
        "rmse = np.sqrt(mean_squared_error(y,y_poly_pred))\n",
        "r2 = r2_score(y,y_poly_pred)\n",
        "print(\"rmse: \",rmse)\n",
        "print(\"r2: \",r2)\n",
        "\n",
        "plt.scatter(x, y, s=10)\n",
        "# sort the values of x before line plot\n",
        "sort_axis = operator.itemgetter(0)\n",
        "sorted_zip = sorted(zip(x,y_poly_pred), key=sort_axis)\n",
        "x, y_poly_pred = zip(*sorted_zip)\n",
        "plt.plot(x, y_poly_pred, color='m')\n",
        "plt.show()"
      ],
      "execution_count": 16,
      "outputs": [
        {
          "output_type": "stream",
          "text": [
            "PolynomialFeatures(degree=3, include_bias=True, interaction_only=False,\n",
            "                   order='C')\n",
            "rmse:  0.27827600640905475\n",
            "r2:  0.7766641335526645\n"
          ],
          "name": "stdout"
        },
        {
          "output_type": "display_data",
          "data": {
            "image/png": "[encoded data removed]",
            "text/plain": [
              "<Figure size 432x288 with 1 Axes>"
            ]
          },
          "metadata": {
            "tags": [],
            "needs_background": "light"
          }
        }
      ]
    },
    {
      "cell_type": "markdown",
      "metadata": {
        "id": "J4TX7ADbVp35"
      },
      "source": [
        "Approach 2 :"
      ]
    },
    {
      "cell_type": "code",
      "metadata": {
        "id": "nqmMqP1Qz4zy",
        "colab": {
          "base_uri": "https://localhost:8080/"
        },
        "outputId": "37fbfc77-df56-4fcb-90c7-ef9673b15fdb"
      },
      "source": [
        "\n",
        "X = df_new3['Date'].values\n",
        "Y = df_new3['Value'].values\n",
        "#print(X,Y)\n",
        "# transforming the data to include another axis\n",
        "x = X[:, np.newaxis]\n",
        "y = Y[:, np.newaxis]# importing libraries for polynomial transform\n",
        "from sklearn.preprocessing import PolynomialFeatures\n",
        "# for creating pipeline\n",
        "from sklearn.pipeline import Pipeline\n",
        "# creating pipeline and fitting it on data\n",
        "Input=[('polynomial',PolynomialFeatures(degree=2)),('modal',LinearRegression())]\n",
        "pipe=Pipeline(Input)\n",
        "pipe.fit(x.reshape(-1,1),y.reshape(-1,1))"
      ],
      "execution_count": 19,
      "outputs": [
        {
          "output_type": "execute_result",
          "data": {
            "text/plain": [
              "Pipeline(memory=None,\n",
              "         steps=[('polynomial',\n",
              "                 PolynomialFeatures(degree=2, include_bias=True,\n",
              "                                    interaction_only=False, order='C')),\n",
              "                ('modal',\n",
              "                 LinearRegression(copy_X=True, fit_intercept=True, n_jobs=None,\n",
              "                                  normalize=False))],\n",
              "         verbose=False)"
            ]
          },
          "metadata": {
            "tags": []
          },
          "execution_count": 19
        }
      ]
    },
    {
      "cell_type": "code",
      "metadata": {
        "colab": {
          "base_uri": "https://localhost:8080/",
          "height": 284
        },
        "id": "n-lBubF_VrXC",
        "outputId": "242b6677-7261-41e7-fa9f-79773291a1d1"
      },
      "source": [
        "poly_pred=pipe.predict(x.reshape(-1,1))\n",
        "#sorting predicted values with respect to predictor\n",
        "sorted_zip = sorted(zip(x,poly_pred))\n",
        "x_poly, poly_pred = zip(*sorted_zip)\n",
        "#plotting predictions\n",
        "plt.figure(figsize=(7,4))\n",
        "plt.scatter(x,y,s=15)\n",
        "plt.plot(x,y_pred,color='r',label='Linear Regression')\n",
        "plt.plot(x_poly,poly_pred,color='g',label='Polynomial Regression')\n",
        "plt.xlabel('Predictor',fontsize=16)\n",
        "plt.ylabel('Target',fontsize=16)\n",
        "plt.legend()\n",
        "plt.show()"
      ],
      "execution_count": 20,
      "outputs": [
        {
          "output_type": "display_data",
          "data": {
            "image/png": "[encoded data removed]",
            "text/plain": [
              "<Figure size 504x288 with 1 Axes>"
            ]
          },
          "metadata": {
            "tags": [],
            "needs_background": "light"
          }
        }
      ]
    },
    {
      "cell_type": "code",
      "metadata": {
        "colab": {
          "base_uri": "https://localhost:8080/"
        },
        "id": "mkR9rwBWV8mv",
        "outputId": "49879be1-480e-40c6-9cfd-ddb086c56196"
      },
      "source": [
        "print('RMSE for Polynomial Regression=>',np.sqrt(mean_squared_error(y,poly_pred)))"
      ],
      "execution_count": 21,
      "outputs": [
        {
          "output_type": "stream",
          "text": [
            "RMSE for Polynomial Regression=> 0.2782612985759853\n"
          ],
          "name": "stdout"
        }
      ]
    },
    {
      "cell_type": "markdown",
      "metadata": {
        "id": "xiIU0uGda_yO"
      },
      "source": [
        "Polynomial curve of degree 4"
      ]
    },
    {
      "cell_type": "code",
      "metadata": {
        "id": "BZeZxOx-WP1f"
      },
      "source": [
        "import numpy as np\n",
        "import matplotlib.pyplot as plt\n",
        "import pandas as pd"
      ],
      "execution_count": 22,
      "outputs": []
    },
    {
      "cell_type": "code",
      "metadata": {
        "id": "wl6dnMjAbmpT"
      },
      "source": [
        "import datetime as dt\n",
        "df_new3['Date'] = pd.to_datetime(df_new3['TIME'])\n",
        "df_new3['Date']=df_new3['Date'].map(dt.datetime.toordinal)"
      ],
      "execution_count": null,
      "outputs": []
    },
    {
      "cell_type": "code",
      "metadata": {
        "colab": {
          "base_uri": "https://localhost:8080/",
          "height": 204
        },
        "id": "qVZt_ffRbBq0",
        "outputId": "7f9ec086-92e8-4aab-a7df-0640716f75a2"
      },
      "source": [
        "X = df_new3.iloc[:, 3].values\n",
        "y = df_new3.iloc[:, 2].values\n",
        "df_new3.head(5)\n"
      ],
      "execution_count": 24,
      "outputs": [
        {
          "output_type": "execute_result",
          "data": {
            "text/html": [
              "<div>\n",
              "<style scoped>\n",
              "    .dataframe tbody tr th:only-of-type {\n",
              "        vertical-align: middle;\n",
              "    }\n",
              "\n",
              "    .dataframe tbody tr th {\n",
              "        vertical-align: top;\n",
              "    }\n",
              "\n",
              "    .dataframe thead th {\n",
              "        text-align: right;\n",
              "    }\n",
              "</style>\n",
              "<table border=\"1\" class=\"dataframe\">\n",
              "  <thead>\n",
              "    <tr style=\"text-align: right;\">\n",
              "      <th></th>\n",
              "      <th>LOCATION</th>\n",
              "      <th>TIME</th>\n",
              "      <th>Value</th>\n",
              "      <th>Date</th>\n",
              "    </tr>\n",
              "  </thead>\n",
              "  <tbody>\n",
              "    <tr>\n",
              "      <th>1923</th>\n",
              "      <td>EU27_2020</td>\n",
              "      <td>2017-11</td>\n",
              "      <td>1.6</td>\n",
              "      <td>736634</td>\n",
              "    </tr>\n",
              "    <tr>\n",
              "      <th>1924</th>\n",
              "      <td>EU27_2020</td>\n",
              "      <td>2017-12</td>\n",
              "      <td>1.4</td>\n",
              "      <td>736664</td>\n",
              "    </tr>\n",
              "    <tr>\n",
              "      <th>1925</th>\n",
              "      <td>EU27_2020</td>\n",
              "      <td>2018-01</td>\n",
              "      <td>1.4</td>\n",
              "      <td>736695</td>\n",
              "    </tr>\n",
              "    <tr>\n",
              "      <th>1926</th>\n",
              "      <td>EU27_2020</td>\n",
              "      <td>2018-02</td>\n",
              "      <td>1.2</td>\n",
              "      <td>736726</td>\n",
              "    </tr>\n",
              "    <tr>\n",
              "      <th>1927</th>\n",
              "      <td>EU27_2020</td>\n",
              "      <td>2018-03</td>\n",
              "      <td>1.4</td>\n",
              "      <td>736754</td>\n",
              "    </tr>\n",
              "  </tbody>\n",
              "</table>\n",
              "</div>"
            ],
            "text/plain": [
              "       LOCATION     TIME  Value    Date\n",
              "1923  EU27_2020  2017-11    1.6  736634\n",
              "1924  EU27_2020  2017-12    1.4  736664\n",
              "1925  EU27_2020  2018-01    1.4  736695\n",
              "1926  EU27_2020  2018-02    1.2  736726\n",
              "1927  EU27_2020  2018-03    1.4  736754"
            ]
          },
          "metadata": {
            "tags": []
          },
          "execution_count": 24
        }
      ]
    },
    {
      "cell_type": "code",
      "metadata": {
        "colab": {
          "base_uri": "https://localhost:8080/"
        },
        "id": "P54ise52bLYD",
        "outputId": "57794d30-273d-4760-ebd1-28bdc2673503"
      },
      "source": [
        "from sklearn.preprocessing import PolynomialFeatures\n",
        "from sklearn.linear_model import LinearRegression\n",
        "poly_reg = PolynomialFeatures(degree = 2)\n",
        "X=X.reshape(-1,1)\n",
        "y=y.reshape(-1,1)\n",
        "X_poly = poly_reg.fit_transform(X)\n",
        "lin_reg = LinearRegression()\n",
        "lin_reg.fit(X_poly, y)"
      ],
      "execution_count": 25,
      "outputs": [
        {
          "output_type": "execute_result",
          "data": {
            "text/plain": [
              "LinearRegression(copy_X=True, fit_intercept=True, n_jobs=None, normalize=False)"
            ]
          },
          "metadata": {
            "tags": []
          },
          "execution_count": 25
        }
      ]
    },
    {
      "cell_type": "code",
      "metadata": {
        "id": "Yx28B22acAJS"
      },
      "source": [
        "y_pred = lin_reg.predict(X_poly)\n"
      ],
      "execution_count": 26,
      "outputs": []
    },
    {
      "cell_type": "code",
      "metadata": {
        "colab": {
          "base_uri": "https://localhost:8080/",
          "height": 80
        },
        "id": "dr15ntmNnBQL",
        "outputId": "b2ad22a8-4b61-480d-c63e-a2ee0cd5e630"
      },
      "source": [
        "df = pd.DataFrame({'Real Values':[y], 'Predicted Values':[y_pred]})\n",
        "df"
      ],
      "execution_count": 27,
      "outputs": [
        {
          "output_type": "execute_result",
          "data": {
            "text/html": [
              "<div>\n",
              "<style scoped>\n",
              "    .dataframe tbody tr th:only-of-type {\n",
              "        vertical-align: middle;\n",
              "    }\n",
              "\n",
              "    .dataframe tbody tr th {\n",
              "        vertical-align: top;\n",
              "    }\n",
              "\n",
              "    .dataframe thead th {\n",
              "        text-align: right;\n",
              "    }\n",
              "</style>\n",
              "<table border=\"1\" class=\"dataframe\">\n",
              "  <thead>\n",
              "    <tr style=\"text-align: right;\">\n",
              "      <th></th>\n",
              "      <th>Real Values</th>\n",
              "      <th>Predicted Values</th>\n",
              "    </tr>\n",
              "  </thead>\n",
              "  <tbody>\n",
              "    <tr>\n",
              "      <th>0</th>\n",
              "      <td>[[1.6], [1.4], [1.4], [1.2], [1.4], [1.3], [2....</td>\n",
              "      <td>[[1.4557758304290473], [1.5106076945085078], [...</td>\n",
              "    </tr>\n",
              "  </tbody>\n",
              "</table>\n",
              "</div>"
            ],
            "text/plain": [
              "                                         Real Values                                   Predicted Values\n",
              "0  [[1.6], [1.4], [1.4], [1.2], [1.4], [1.3], [2....  [[1.4557758304290473], [1.5106076945085078], [..."
            ]
          },
          "metadata": {
            "tags": []
          },
          "execution_count": 27
        }
      ]
    },
    {
      "cell_type": "code",
      "metadata": {
        "colab": {
          "base_uri": "https://localhost:8080/",
          "height": 295
        },
        "id": "y06yUeL5nFiM",
        "outputId": "527ded27-9b2a-4150-cee2-5fa0f5c680ee"
      },
      "source": [
        "X_grid = np.arange(min(X), max(X), 0.1)\n",
        "X_grid = X_grid.reshape((len(X_grid), 1))\n",
        "plt.scatter(X, y, color = 'red')\n",
        "plt.scatter(X, y_pred, color = 'green')\n",
        "plt.plot(X_grid, lin_reg.predict(poly_reg.fit_transform(X_grid)), color = 'black')\n",
        "plt.title('Polynomial Regression Prediction for Share_prices')\n",
        "plt.xlabel('Timline')\n",
        "plt.show()"
      ],
      "execution_count": 28,
      "outputs": [
        {
          "output_type": "display_data",
          "data": {
            "image/png": "[encoded data removed]",
            "text/plain": [
              "<Figure size 432x288 with 1 Axes>"
            ]
          },
          "metadata": {
            "tags": [],
            "needs_background": "light"
          }
        }
      ]
    }
  ]
}